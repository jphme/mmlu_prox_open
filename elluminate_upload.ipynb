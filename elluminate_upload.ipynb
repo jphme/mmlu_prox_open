{
 "cells": [
  {
   "cell_type": "markdown",
   "metadata": {},
   "source": [
    "# MMLU-ProX-Lite-Open Dataset Upload to Elluminate\n",
    "\n",
    "This notebook loads the MMLU-ProX-Lite-open dataset and uploads it to Elluminate, creating separate collections for each language."
   ]
  },
  {
   "cell_type": "markdown",
   "metadata": {},
   "source": [
    "## Setup and Imports"
   ]
  },
  {
   "cell_type": "code",
   "execution_count": 7,
   "metadata": {},
   "outputs": [
    {
     "name": "stdout",
     "output_type": "stream",
     "text": [
      "Environment setup complete\n"
     ]
    }
   ],
   "source": [
    "import os\n",
    "from dotenv import load_dotenv\n",
    "from elluminate import Client\n",
    "from datasets import load_dataset\n",
    "import pandas as pd\n",
    "from tqdm import tqdm\n",
    "import nest_asyncio\n",
    "\n",
    "nest_asyncio.apply()\n",
    "\n",
    "# Load environment variables\n",
    "load_dotenv()\n",
    "\n",
    "print(\"Environment setup complete\")"
   ]
  },
  {
   "cell_type": "markdown",
   "metadata": {},
   "source": [
    "## Initialize Elluminate Client"
   ]
  },
  {
   "cell_type": "code",
   "execution_count": 2,
   "metadata": {},
   "outputs": [
    {
     "name": "stdout",
     "output_type": "stream",
     "text": [
      "Elluminate client initialized successfully\n"
     ]
    }
   ],
   "source": [
    "# Initialize Elluminate client\n",
    "# Make sure ELLUMINATE_API_KEY and ELLUMINATE_BASE_URL are set in your .env file\n",
    "client = Client()\n",
    "\n",
    "print(\"Elluminate client initialized successfully\")"
   ]
  },
  {
   "cell_type": "markdown",
   "metadata": {},
   "source": [
    "## Load Dataset"
   ]
  },
  {
   "cell_type": "code",
   "execution_count": 3,
   "metadata": {},
   "outputs": [
    {
     "name": "stdout",
     "output_type": "stream",
     "text": [
      "Dataset loaded successfully\n",
      "Available splits: ['af', 'ar', 'bn', 'cs', 'de', 'en', 'es', 'fr', 'hi', 'hu', 'id', 'it', 'ja', 'ko', 'mr', 'ne', 'pt', 'ru', 'sr', 'sw', 'te', 'th', 'uk', 'ur', 'vi', 'wo', 'yo', 'zh', 'zu']\n",
      "Total splits: 29\n"
     ]
    }
   ],
   "source": [
    "# Load the MMLU-ProX-Lite-open dataset\n",
    "dataset = load_dataset(\"jphme/MMLU-ProX-Lite-open\")\n",
    "\n",
    "print(f\"Dataset loaded successfully\")\n",
    "print(f\"Available splits: {list(dataset.keys())}\")\n",
    "print(f\"Total splits: {len(dataset)}\")"
   ]
  },
  {
   "cell_type": "markdown",
   "metadata": {},
   "source": [
    "## Inspect Dataset Structure"
   ]
  },
  {
   "cell_type": "code",
   "execution_count": 4,
   "metadata": {},
   "outputs": [
    {
     "name": "stdout",
     "output_type": "stream",
     "text": [
      "Columns: ['question_id', 'question', 'answer', 'cot_content', 'category', 'src']\n",
      "Number of questions in English split: 470\n",
      "\n",
      "Sample data:\n",
      "{'question_id': 72, 'question': 'Determine the number of men needed to build a boat in 77 days if it takes 36 men 132 days to build one.', 'answer': '62 men', 'cot_content': '', 'category': 'business', 'src': 'stemez-Business'}\n"
     ]
    }
   ],
   "source": [
    "# Show sample data from English split\n",
    "en_split = dataset[\"en\"]\n",
    "print(f\"Columns: {en_split.column_names}\")\n",
    "print(f\"Number of questions in English split: {len(en_split)}\")\n",
    "print(\"\\nSample data:\")\n",
    "print(en_split[0])"
   ]
  },
  {
   "cell_type": "markdown",
   "metadata": {},
   "source": [
    "## Data Preprocessing Function"
   ]
  },
  {
   "cell_type": "code",
   "execution_count": 19,
   "metadata": {},
   "outputs": [
    {
     "name": "stdout",
     "output_type": "stream",
     "text": [
      "Removed empty cot_content column\n",
      "Preprocessed 470 records\n",
      "Remaining columns: ['question_id', 'question', 'answer', 'category', 'src']\n",
      "\n",
      "Sample preprocessed record:\n",
      "{'question_id': '72', 'question': 'Determine the number of men needed to build a boat in 77 days if it takes 36 men 132 days to build one.', 'answer': '62 men', 'category': 'business', 'src': 'stemez-Business'}\n"
     ]
    }
   ],
   "source": [
    "def preprocess_split_data(split_data):\n",
    "    \"\"\"\n",
    "    Preprocess dataset split by removing empty cot_content column\n",
    "    and converting to list of dictionaries for Elluminate upload\n",
    "    \"\"\"\n",
    "    # Convert to pandas DataFrame for easier manipulation\n",
    "    df = split_data.to_pandas()\n",
    "\n",
    "    # Remove the empty cot_content column\n",
    "    if \"cot_content\" in df.columns:\n",
    "        df = df.drop(\"cot_content\", axis=1)\n",
    "        print(f\"Removed empty cot_content column\")\n",
    "\n",
    "    # Convert to list of dictionaries\n",
    "    records = df.astype(str).to_dict(\"records\")\n",
    "\n",
    "    print(f\"Preprocessed {len(records)} records\")\n",
    "    print(f\"Remaining columns: {list(df.columns)}\")\n",
    "\n",
    "    return records\n",
    "\n",
    "\n",
    "# Test preprocessing with English split\n",
    "en_records = preprocess_split_data(dataset[\"en\"])\n",
    "print(f\"\\nSample preprocessed record:\")\n",
    "print(en_records[0])"
   ]
  },
  {
   "cell_type": "markdown",
   "metadata": {},
   "source": [
    "## Create Collections for Each Language"
   ]
  },
  {
   "cell_type": "code",
   "execution_count": 20,
   "metadata": {},
   "outputs": [
    {
     "name": "stdout",
     "output_type": "stream",
     "text": [
      "Creating collections for each language...\n"
     ]
    },
    {
     "name": "stderr",
     "output_type": "stream",
     "text": [
      "Creating collections:   0%|          | 0/29 [00:00<?, ?it/s]"
     ]
    },
    {
     "name": "stdout",
     "output_type": "stream",
     "text": [
      "Deleted existing collection MMLU-ProX-Lite-Open-AF\n",
      "Removed empty cot_content column\n",
      "Preprocessed 470 records\n",
      "Remaining columns: ['question_id', 'question', 'answer', 'category', 'src']\n"
     ]
    },
    {
     "name": "stderr",
     "output_type": "stream",
     "text": [
      "Creating collections:   3%|▎         | 1/29 [00:01<00:35,  1.28s/it]"
     ]
    },
    {
     "name": "stdout",
     "output_type": "stream",
     "text": [
      "✓ Afrikaans (af): created collection 'MMLU-ProX-Lite-Open-AF'\n",
      "Deleted existing collection MMLU-ProX-Lite-Open-AR\n",
      "Removed empty cot_content column\n",
      "Preprocessed 470 records\n",
      "Remaining columns: ['question_id', 'question', 'answer', 'category', 'src']\n"
     ]
    },
    {
     "name": "stderr",
     "output_type": "stream",
     "text": [
      "Creating collections:   7%|▋         | 2/29 [00:02<00:28,  1.04s/it]"
     ]
    },
    {
     "name": "stdout",
     "output_type": "stream",
     "text": [
      "✓ Arabic (ar): created collection 'MMLU-ProX-Lite-Open-AR'\n",
      "Deleted existing collection MMLU-ProX-Lite-Open-BN\n",
      "Removed empty cot_content column\n",
      "Preprocessed 470 records\n",
      "Remaining columns: ['question_id', 'question', 'answer', 'category', 'src']\n"
     ]
    },
    {
     "name": "stderr",
     "output_type": "stream",
     "text": [
      "Creating collections:  10%|█         | 3/29 [00:03<00:24,  1.04it/s]"
     ]
    },
    {
     "name": "stdout",
     "output_type": "stream",
     "text": [
      "✓ Bengali (bn): created collection 'MMLU-ProX-Lite-Open-BN'\n",
      "Deleted existing collection MMLU-ProX-Lite-Open-CS\n",
      "Removed empty cot_content column\n",
      "Preprocessed 470 records\n",
      "Remaining columns: ['question_id', 'question', 'answer', 'category', 'src']\n"
     ]
    },
    {
     "name": "stderr",
     "output_type": "stream",
     "text": [
      "Creating collections:  14%|█▍        | 4/29 [00:03<00:22,  1.10it/s]"
     ]
    },
    {
     "name": "stdout",
     "output_type": "stream",
     "text": [
      "✓ Czech (cs): created collection 'MMLU-ProX-Lite-Open-CS'\n",
      "Deleted existing collection MMLU-ProX-Lite-Open-DE\n",
      "Removed empty cot_content column\n",
      "Preprocessed 470 records\n",
      "Remaining columns: ['question_id', 'question', 'answer', 'category', 'src']\n"
     ]
    },
    {
     "name": "stderr",
     "output_type": "stream",
     "text": [
      "Creating collections:  17%|█▋        | 5/29 [00:04<00:20,  1.18it/s]"
     ]
    },
    {
     "name": "stdout",
     "output_type": "stream",
     "text": [
      "✓ German (de): created collection 'MMLU-ProX-Lite-Open-DE'\n",
      "Deleted existing collection MMLU-ProX-Lite-Open-EN\n",
      "Removed empty cot_content column\n",
      "Preprocessed 470 records\n",
      "Remaining columns: ['question_id', 'question', 'answer', 'category', 'src']\n"
     ]
    },
    {
     "name": "stderr",
     "output_type": "stream",
     "text": [
      "Creating collections:  21%|██        | 6/29 [00:05<00:19,  1.19it/s]"
     ]
    },
    {
     "name": "stdout",
     "output_type": "stream",
     "text": [
      "✓ English (en): created collection 'MMLU-ProX-Lite-Open-EN'\n",
      "Deleted existing collection MMLU-ProX-Lite-Open-ES\n",
      "Removed empty cot_content column\n",
      "Preprocessed 470 records\n",
      "Remaining columns: ['question_id', 'question', 'answer', 'category', 'src']\n"
     ]
    },
    {
     "name": "stderr",
     "output_type": "stream",
     "text": [
      "Creating collections:  24%|██▍       | 7/29 [00:06<00:19,  1.13it/s]"
     ]
    },
    {
     "name": "stdout",
     "output_type": "stream",
     "text": [
      "✓ Spanish (es): created collection 'MMLU-ProX-Lite-Open-ES'\n",
      "Deleted existing collection MMLU-ProX-Lite-Open-FR\n",
      "Removed empty cot_content column\n",
      "Preprocessed 470 records\n",
      "Remaining columns: ['question_id', 'question', 'answer', 'category', 'src']\n"
     ]
    },
    {
     "name": "stderr",
     "output_type": "stream",
     "text": [
      "Creating collections:  28%|██▊       | 8/29 [00:07<00:21,  1.01s/it]"
     ]
    },
    {
     "name": "stdout",
     "output_type": "stream",
     "text": [
      "✓ French (fr): created collection 'MMLU-ProX-Lite-Open-FR'\n",
      "Deleted existing collection MMLU-ProX-Lite-Open-HI\n",
      "Removed empty cot_content column\n",
      "Preprocessed 470 records\n",
      "Remaining columns: ['question_id', 'question', 'answer', 'category', 'src']\n"
     ]
    },
    {
     "name": "stderr",
     "output_type": "stream",
     "text": [
      "Creating collections:  31%|███       | 9/29 [00:09<00:22,  1.12s/it]"
     ]
    },
    {
     "name": "stdout",
     "output_type": "stream",
     "text": [
      "✓ Hindi (hi): created collection 'MMLU-ProX-Lite-Open-HI'\n",
      "Deleted existing collection MMLU-ProX-Lite-Open-HU\n",
      "Removed empty cot_content column\n",
      "Preprocessed 470 records\n",
      "Remaining columns: ['question_id', 'question', 'answer', 'category', 'src']\n"
     ]
    },
    {
     "name": "stderr",
     "output_type": "stream",
     "text": [
      "Creating collections:  34%|███▍      | 10/29 [00:09<00:19,  1.04s/it]"
     ]
    },
    {
     "name": "stdout",
     "output_type": "stream",
     "text": [
      "✓ Hungarian (hu): created collection 'MMLU-ProX-Lite-Open-HU'\n",
      "Deleted existing collection MMLU-ProX-Lite-Open-ID\n",
      "Removed empty cot_content column\n",
      "Preprocessed 470 records\n",
      "Remaining columns: ['question_id', 'question', 'answer', 'category', 'src']\n"
     ]
    },
    {
     "name": "stderr",
     "output_type": "stream",
     "text": [
      "Creating collections:  38%|███▊      | 11/29 [00:10<00:17,  1.03it/s]"
     ]
    },
    {
     "name": "stdout",
     "output_type": "stream",
     "text": [
      "✓ Indonesian (id): created collection 'MMLU-ProX-Lite-Open-ID'\n",
      "Deleted existing collection MMLU-ProX-Lite-Open-IT\n",
      "Removed empty cot_content column\n",
      "Preprocessed 470 records\n",
      "Remaining columns: ['question_id', 'question', 'answer', 'category', 'src']\n"
     ]
    },
    {
     "name": "stderr",
     "output_type": "stream",
     "text": [
      "Creating collections:  41%|████▏     | 12/29 [00:11<00:16,  1.04it/s]"
     ]
    },
    {
     "name": "stdout",
     "output_type": "stream",
     "text": [
      "✓ Italian (it): created collection 'MMLU-ProX-Lite-Open-IT'\n",
      "Deleted existing collection MMLU-ProX-Lite-Open-JA\n",
      "Removed empty cot_content column\n",
      "Preprocessed 470 records\n",
      "Remaining columns: ['question_id', 'question', 'answer', 'category', 'src']\n"
     ]
    },
    {
     "name": "stderr",
     "output_type": "stream",
     "text": [
      "Creating collections:  45%|████▍     | 13/29 [00:12<00:14,  1.08it/s]"
     ]
    },
    {
     "name": "stdout",
     "output_type": "stream",
     "text": [
      "✓ Japanese (ja): created collection 'MMLU-ProX-Lite-Open-JA'\n",
      "Deleted existing collection MMLU-ProX-Lite-Open-KO\n",
      "Removed empty cot_content column\n",
      "Preprocessed 470 records\n",
      "Remaining columns: ['question_id', 'question', 'answer', 'category', 'src']\n"
     ]
    },
    {
     "name": "stderr",
     "output_type": "stream",
     "text": [
      "Creating collections:  48%|████▊     | 14/29 [00:13<00:13,  1.11it/s]"
     ]
    },
    {
     "name": "stdout",
     "output_type": "stream",
     "text": [
      "✓ Korean (ko): created collection 'MMLU-ProX-Lite-Open-KO'\n",
      "Deleted existing collection MMLU-ProX-Lite-Open-MR\n",
      "Removed empty cot_content column\n",
      "Preprocessed 470 records\n",
      "Remaining columns: ['question_id', 'question', 'answer', 'category', 'src']\n"
     ]
    },
    {
     "name": "stderr",
     "output_type": "stream",
     "text": [
      "Creating collections:  52%|█████▏    | 15/29 [00:14<00:14,  1.05s/it]"
     ]
    },
    {
     "name": "stdout",
     "output_type": "stream",
     "text": [
      "✓ Marathi (mr): created collection 'MMLU-ProX-Lite-Open-MR'\n",
      "Deleted existing collection MMLU-ProX-Lite-Open-NE\n",
      "Removed empty cot_content column\n",
      "Preprocessed 470 records\n",
      "Remaining columns: ['question_id', 'question', 'answer', 'category', 'src']\n"
     ]
    },
    {
     "name": "stderr",
     "output_type": "stream",
     "text": [
      "Creating collections:  55%|█████▌    | 16/29 [00:15<00:13,  1.04s/it]"
     ]
    },
    {
     "name": "stdout",
     "output_type": "stream",
     "text": [
      "✓ Nepali (ne): created collection 'MMLU-ProX-Lite-Open-NE'\n",
      "Deleted existing collection MMLU-ProX-Lite-Open-PT\n",
      "Removed empty cot_content column\n",
      "Preprocessed 470 records\n",
      "Remaining columns: ['question_id', 'question', 'answer', 'category', 'src']\n"
     ]
    },
    {
     "name": "stderr",
     "output_type": "stream",
     "text": [
      "Creating collections:  59%|█████▊    | 17/29 [00:16<00:12,  1.05s/it]"
     ]
    },
    {
     "name": "stdout",
     "output_type": "stream",
     "text": [
      "✓ Portuguese (pt): created collection 'MMLU-ProX-Lite-Open-PT'\n",
      "Deleted existing collection MMLU-ProX-Lite-Open-RU\n",
      "Removed empty cot_content column\n",
      "Preprocessed 470 records\n",
      "Remaining columns: ['question_id', 'question', 'answer', 'category', 'src']\n"
     ]
    },
    {
     "name": "stderr",
     "output_type": "stream",
     "text": [
      "Creating collections:  62%|██████▏   | 18/29 [00:17<00:11,  1.05s/it]"
     ]
    },
    {
     "name": "stdout",
     "output_type": "stream",
     "text": [
      "✓ Russian (ru): created collection 'MMLU-ProX-Lite-Open-RU'\n",
      "Deleted existing collection MMLU-ProX-Lite-Open-SR\n",
      "Removed empty cot_content column\n",
      "Preprocessed 470 records\n",
      "Remaining columns: ['question_id', 'question', 'answer', 'category', 'src']\n"
     ]
    },
    {
     "name": "stderr",
     "output_type": "stream",
     "text": [
      "Creating collections:  66%|██████▌   | 19/29 [00:18<00:10,  1.00s/it]"
     ]
    },
    {
     "name": "stdout",
     "output_type": "stream",
     "text": [
      "✓ Serbian (sr): created collection 'MMLU-ProX-Lite-Open-SR'\n",
      "Deleted existing collection MMLU-ProX-Lite-Open-SW\n",
      "Removed empty cot_content column\n",
      "Preprocessed 470 records\n",
      "Remaining columns: ['question_id', 'question', 'answer', 'category', 'src']\n"
     ]
    },
    {
     "name": "stderr",
     "output_type": "stream",
     "text": [
      "Creating collections:  69%|██████▉   | 20/29 [00:19<00:09,  1.07s/it]"
     ]
    },
    {
     "name": "stdout",
     "output_type": "stream",
     "text": [
      "✓ Swahili (sw): created collection 'MMLU-ProX-Lite-Open-SW'\n",
      "Deleted existing collection MMLU-ProX-Lite-Open-TE\n",
      "Removed empty cot_content column\n",
      "Preprocessed 470 records\n",
      "Remaining columns: ['question_id', 'question', 'answer', 'category', 'src']\n"
     ]
    },
    {
     "name": "stderr",
     "output_type": "stream",
     "text": [
      "Creating collections:  72%|███████▏  | 21/29 [00:21<00:10,  1.28s/it]"
     ]
    },
    {
     "name": "stdout",
     "output_type": "stream",
     "text": [
      "✓ Telugu (te): created collection 'MMLU-ProX-Lite-Open-TE'\n",
      "Deleted existing collection MMLU-ProX-Lite-Open-TH\n",
      "Removed empty cot_content column\n",
      "Preprocessed 470 records\n",
      "Remaining columns: ['question_id', 'question', 'answer', 'category', 'src']\n"
     ]
    },
    {
     "name": "stderr",
     "output_type": "stream",
     "text": [
      "Creating collections:  76%|███████▌  | 22/29 [00:23<00:08,  1.28s/it]"
     ]
    },
    {
     "name": "stdout",
     "output_type": "stream",
     "text": [
      "✓ Thai (th): created collection 'MMLU-ProX-Lite-Open-TH'\n",
      "Deleted existing collection MMLU-ProX-Lite-Open-UK\n",
      "Removed empty cot_content column\n",
      "Preprocessed 470 records\n",
      "Remaining columns: ['question_id', 'question', 'answer', 'category', 'src']\n"
     ]
    },
    {
     "name": "stderr",
     "output_type": "stream",
     "text": [
      "Creating collections:  79%|███████▉  | 23/29 [00:23<00:07,  1.17s/it]"
     ]
    },
    {
     "name": "stdout",
     "output_type": "stream",
     "text": [
      "✓ Ukrainian (uk): created collection 'MMLU-ProX-Lite-Open-UK'\n",
      "Deleted existing collection MMLU-ProX-Lite-Open-UR\n",
      "Removed empty cot_content column\n",
      "Preprocessed 470 records\n",
      "Remaining columns: ['question_id', 'question', 'answer', 'category', 'src']\n"
     ]
    },
    {
     "name": "stderr",
     "output_type": "stream",
     "text": [
      "Creating collections:  83%|████████▎ | 24/29 [00:24<00:05,  1.09s/it]"
     ]
    },
    {
     "name": "stdout",
     "output_type": "stream",
     "text": [
      "✓ Urdu (ur): created collection 'MMLU-ProX-Lite-Open-UR'\n",
      "Deleted existing collection MMLU-ProX-Lite-Open-VI\n",
      "Removed empty cot_content column\n",
      "Preprocessed 470 records\n",
      "Remaining columns: ['question_id', 'question', 'answer', 'category', 'src']\n"
     ]
    },
    {
     "name": "stderr",
     "output_type": "stream",
     "text": [
      "Creating collections:  86%|████████▌ | 25/29 [00:25<00:03,  1.01it/s]"
     ]
    },
    {
     "name": "stdout",
     "output_type": "stream",
     "text": [
      "✓ Vietnamese (vi): created collection 'MMLU-ProX-Lite-Open-VI'\n",
      "Deleted existing collection MMLU-ProX-Lite-Open-WO\n",
      "Removed empty cot_content column\n",
      "Preprocessed 470 records\n",
      "Remaining columns: ['question_id', 'question', 'answer', 'category', 'src']\n"
     ]
    },
    {
     "name": "stderr",
     "output_type": "stream",
     "text": [
      "Creating collections:  90%|████████▉ | 26/29 [00:26<00:02,  1.02it/s]"
     ]
    },
    {
     "name": "stdout",
     "output_type": "stream",
     "text": [
      "✓ Wolof (wo): created collection 'MMLU-ProX-Lite-Open-WO'\n",
      "Deleted existing collection MMLU-ProX-Lite-Open-YO\n",
      "Removed empty cot_content column\n",
      "Preprocessed 470 records\n",
      "Remaining columns: ['question_id', 'question', 'answer', 'category', 'src']\n"
     ]
    },
    {
     "name": "stderr",
     "output_type": "stream",
     "text": [
      "Creating collections:  93%|█████████▎| 27/29 [00:27<00:02,  1.03s/it]"
     ]
    },
    {
     "name": "stdout",
     "output_type": "stream",
     "text": [
      "✓ Yoruba (yo): created collection 'MMLU-ProX-Lite-Open-YO'\n",
      "Deleted existing collection MMLU-ProX-Lite-Open-ZH\n",
      "Removed empty cot_content column\n",
      "Preprocessed 470 records\n",
      "Remaining columns: ['question_id', 'question', 'answer', 'category', 'src']\n"
     ]
    },
    {
     "name": "stderr",
     "output_type": "stream",
     "text": [
      "Creating collections:  97%|█████████▋| 28/29 [00:28<00:01,  1.00s/it]"
     ]
    },
    {
     "name": "stdout",
     "output_type": "stream",
     "text": [
      "✓ Chinese (zh): created collection 'MMLU-ProX-Lite-Open-ZH'\n",
      "Deleted existing collection MMLU-ProX-Lite-Open-ZU\n",
      "Removed empty cot_content column\n",
      "Preprocessed 470 records\n",
      "Remaining columns: ['question_id', 'question', 'answer', 'category', 'src']\n"
     ]
    },
    {
     "name": "stderr",
     "output_type": "stream",
     "text": [
      "Creating collections: 100%|██████████| 29/29 [00:29<00:00,  1.01s/it]"
     ]
    },
    {
     "name": "stdout",
     "output_type": "stream",
     "text": [
      "✓ Zulu (zu): created collection 'MMLU-ProX-Lite-Open-ZU'\n",
      "\n",
      "Successfully created/found 29 collections\n"
     ]
    },
    {
     "name": "stderr",
     "output_type": "stream",
     "text": [
      "\n"
     ]
    }
   ],
   "source": [
    "# Language names mapping for better collection descriptions\n",
    "language_names = {\n",
    "    \"af\": \"Afrikaans\",\n",
    "    \"ar\": \"Arabic\",\n",
    "    \"bn\": \"Bengali\",\n",
    "    \"cs\": \"Czech\",\n",
    "    \"de\": \"German\",\n",
    "    \"en\": \"English\",\n",
    "    \"es\": \"Spanish\",\n",
    "    \"fr\": \"French\",\n",
    "    \"hi\": \"Hindi\",\n",
    "    \"hu\": \"Hungarian\",\n",
    "    \"id\": \"Indonesian\",\n",
    "    \"it\": \"Italian\",\n",
    "    \"ja\": \"Japanese\",\n",
    "    \"ko\": \"Korean\",\n",
    "    \"mr\": \"Marathi\",\n",
    "    \"ne\": \"Nepali\",\n",
    "    \"pt\": \"Portuguese\",\n",
    "    \"ru\": \"Russian\",\n",
    "    \"sr\": \"Serbian\",\n",
    "    \"sw\": \"Swahili\",\n",
    "    \"te\": \"Telugu\",\n",
    "    \"th\": \"Thai\",\n",
    "    \"uk\": \"Ukrainian\",\n",
    "    \"ur\": \"Urdu\",\n",
    "    \"vi\": \"Vietnamese\",\n",
    "    \"wo\": \"Wolof\",\n",
    "    \"yo\": \"Yoruba\",\n",
    "    \"zh\": \"Chinese\",\n",
    "    \"zu\": \"Zulu\",\n",
    "}\n",
    "\n",
    "# Dictionary to store created collections\n",
    "collections = {}\n",
    "\n",
    "print(\"Creating collections for each language...\")\n",
    "for lang_code in tqdm(dataset.keys(), desc=\"Creating collections\"):\n",
    "    language_name = language_names.get(lang_code, lang_code.upper())\n",
    "    collection_name = f\"MMLU-ProX-Lite-Open-{lang_code.upper()}\"\n",
    "    description = f\"MMLU-ProX-Lite open-ended questions in {language_name} ({lang_code}). Contains {len(dataset[lang_code])} questions across multiple academic categories.\"\n",
    "\n",
    "    try:\n",
    "        try:\n",
    "            collection, created = client.collections.get_or_create(name=collection_name)\n",
    "            client.collections.delete(collection)\n",
    "            print(f\"Deleted existing collection {collection_name}\")\n",
    "        except Exception as e:\n",
    "            pass\n",
    "\n",
    "        collection, created = client.collections.get_or_create(\n",
    "            name=collection_name,\n",
    "            description=description,\n",
    "            variables=preprocess_split_data(dataset[lang_code]),\n",
    "        )\n",
    "\n",
    "        collections[lang_code] = collection\n",
    "        status = \"created\" if created else \"found existing\"\n",
    "        print(\n",
    "            f\"✓ {language_name} ({lang_code}): {status} collection '{collection_name}'\"\n",
    "        )\n",
    "\n",
    "    except Exception as e:\n",
    "        print(\n",
    "            f\"✗ Error creating collection for {language_name} ({lang_code}): {str(e)}\"\n",
    "        )\n",
    "\n",
    "print(f\"\\nSuccessfully created/found {len(collections)} collections\")"
   ]
  },
  {
   "cell_type": "markdown",
   "metadata": {},
   "source": [
    "## Collection Summary"
   ]
  },
  {
   "cell_type": "code",
   "execution_count": 9,
   "metadata": {},
   "outputs": [
    {
     "name": "stdout",
     "output_type": "stream",
     "text": [
      "Collection Summary:\n",
      "==================================================\n",
      "Afrikaans    (af): 470 questions - Collection ID: 463\n",
      "Arabic       (ar): 470 questions - Collection ID: 464\n",
      "Bengali      (bn): 470 questions - Collection ID: 465\n",
      "Czech        (cs): 470 questions - Collection ID: 466\n",
      "German       (de): 470 questions - Collection ID: 467\n",
      "English      (en): 470 questions - Collection ID: 468\n",
      "Spanish      (es): 470 questions - Collection ID: 469\n",
      "French       (fr): 470 questions - Collection ID: 470\n",
      "Hindi        (hi): 470 questions - Collection ID: 471\n",
      "Hungarian    (hu): 470 questions - Collection ID: 472\n",
      "Indonesian   (id): 470 questions - Collection ID: 473\n",
      "Italian      (it): 470 questions - Collection ID: 474\n",
      "Japanese     (ja): 470 questions - Collection ID: 475\n",
      "Korean       (ko): 470 questions - Collection ID: 476\n",
      "Marathi      (mr): 470 questions - Collection ID: 477\n",
      "Nepali       (ne): 470 questions - Collection ID: 478\n",
      "Portuguese   (pt): 470 questions - Collection ID: 479\n",
      "Russian      (ru): 470 questions - Collection ID: 480\n",
      "Serbian      (sr): 470 questions - Collection ID: 481\n",
      "Swahili      (sw): 470 questions - Collection ID: 482\n",
      "Telugu       (te): 470 questions - Collection ID: 483\n",
      "Thai         (th): 470 questions - Collection ID: 484\n",
      "Ukrainian    (uk): 470 questions - Collection ID: 485\n",
      "Urdu         (ur): 470 questions - Collection ID: 486\n",
      "Vietnamese   (vi): 470 questions - Collection ID: 487\n",
      "Wolof        (wo): 470 questions - Collection ID: 488\n",
      "Yoruba       (yo): 470 questions - Collection ID: 489\n",
      "Chinese      (zh): 470 questions - Collection ID: 490\n",
      "Zulu         (zu): 470 questions - Collection ID: 491\n",
      "==================================================\n",
      "Total: 29 collections, 13,630 questions\n"
     ]
    }
   ],
   "source": [
    "# Display summary of created collections\n",
    "print(\"Collection Summary:\")\n",
    "print(\"=\" * 50)\n",
    "\n",
    "for lang_code, collection in collections.items():\n",
    "    language_name = language_names.get(lang_code, lang_code.upper())\n",
    "    num_questions = len(dataset[lang_code])\n",
    "    print(\n",
    "        f\"{language_name:12} ({lang_code}): {num_questions:3} questions - Collection ID: {collection.id}\"\n",
    "    )\n",
    "\n",
    "total_questions = sum(len(dataset[lang_code]) for lang_code in collections.keys())\n",
    "print(\"=\" * 50)\n",
    "print(f\"Total: {len(collections)} collections, {total_questions:,} questions\")"
   ]
  }
 ],
 "metadata": {
  "kernelspec": {
   "display_name": ".venv",
   "language": "python",
   "name": "python3"
  },
  "language_info": {
   "codemirror_mode": {
    "name": "ipython",
    "version": 3
   },
   "file_extension": ".py",
   "mimetype": "text/x-python",
   "name": "python",
   "nbconvert_exporter": "python",
   "pygments_lexer": "ipython3",
   "version": "3.12.0"
  }
 },
 "nbformat": 4,
 "nbformat_minor": 4
}
